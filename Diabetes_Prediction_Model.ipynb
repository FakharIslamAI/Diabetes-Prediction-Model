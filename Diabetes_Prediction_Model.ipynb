{
 "cells": [
  {
   "cell_type": "code",
   "execution_count": 15,
   "id": "23f2a52e-2a1d-4d15-b7b2-78c1ac1f20ae",
   "metadata": {},
   "outputs": [],
   "source": [
    "import pandas as pd\n",
    "from sklearn.model_selection import train_test_split\n",
    "from sklearn.preprocessing import StandardScaler\n",
    "from sklearn.linear_model import LogisticRegression\n",
    "from sklearn.ensemble import RandomForestClassifier\n",
    "from sklearn.svm import SVC\n",
    "from sklearn.metrics import accuracy_score, confusion_matrix, classification_report\n",
    "import matplotlib.pyplot as plt\n",
    "import seaborn as sns\n",
    "import joblib"
   ]
  },
  {
   "cell_type": "markdown",
   "id": "0c4e53ff-b634-48ba-979e-fcf4ab9f12ff",
   "metadata": {},
   "source": [
    "## Load The Dataset"
   ]
  },
  {
   "cell_type": "code",
   "execution_count": 38,
   "id": "81d609de-9b24-4d5e-b598-b8294ed274a6",
   "metadata": {},
   "outputs": [
    {
     "data": {
      "text/html": [
       "<div>\n",
       "<style scoped>\n",
       "    .dataframe tbody tr th:only-of-type {\n",
       "        vertical-align: middle;\n",
       "    }\n",
       "\n",
       "    .dataframe tbody tr th {\n",
       "        vertical-align: top;\n",
       "    }\n",
       "\n",
       "    .dataframe thead th {\n",
       "        text-align: right;\n",
       "    }\n",
       "</style>\n",
       "<table border=\"1\" class=\"dataframe\">\n",
       "  <thead>\n",
       "    <tr style=\"text-align: right;\">\n",
       "      <th></th>\n",
       "      <th>gender</th>\n",
       "      <th>age</th>\n",
       "      <th>hypertension</th>\n",
       "      <th>heart_disease</th>\n",
       "      <th>smoking_history</th>\n",
       "      <th>bmi</th>\n",
       "      <th>HbA1c_level</th>\n",
       "      <th>blood_glucose_level</th>\n",
       "      <th>diabetes</th>\n",
       "    </tr>\n",
       "  </thead>\n",
       "  <tbody>\n",
       "    <tr>\n",
       "      <th>0</th>\n",
       "      <td>Female</td>\n",
       "      <td>80.0</td>\n",
       "      <td>0</td>\n",
       "      <td>1</td>\n",
       "      <td>never</td>\n",
       "      <td>25.19</td>\n",
       "      <td>6.6</td>\n",
       "      <td>140</td>\n",
       "      <td>0</td>\n",
       "    </tr>\n",
       "    <tr>\n",
       "      <th>1</th>\n",
       "      <td>Female</td>\n",
       "      <td>54.0</td>\n",
       "      <td>0</td>\n",
       "      <td>0</td>\n",
       "      <td>NaN</td>\n",
       "      <td>27.32</td>\n",
       "      <td>6.6</td>\n",
       "      <td>80</td>\n",
       "      <td>0</td>\n",
       "    </tr>\n",
       "    <tr>\n",
       "      <th>2</th>\n",
       "      <td>Male</td>\n",
       "      <td>28.0</td>\n",
       "      <td>0</td>\n",
       "      <td>0</td>\n",
       "      <td>never</td>\n",
       "      <td>27.32</td>\n",
       "      <td>5.7</td>\n",
       "      <td>158</td>\n",
       "      <td>0</td>\n",
       "    </tr>\n",
       "    <tr>\n",
       "      <th>3</th>\n",
       "      <td>Female</td>\n",
       "      <td>36.0</td>\n",
       "      <td>0</td>\n",
       "      <td>0</td>\n",
       "      <td>current</td>\n",
       "      <td>23.45</td>\n",
       "      <td>5.0</td>\n",
       "      <td>155</td>\n",
       "      <td>0</td>\n",
       "    </tr>\n",
       "    <tr>\n",
       "      <th>4</th>\n",
       "      <td>Male</td>\n",
       "      <td>76.0</td>\n",
       "      <td>1</td>\n",
       "      <td>1</td>\n",
       "      <td>current</td>\n",
       "      <td>20.14</td>\n",
       "      <td>4.8</td>\n",
       "      <td>155</td>\n",
       "      <td>0</td>\n",
       "    </tr>\n",
       "    <tr>\n",
       "      <th>5</th>\n",
       "      <td>Female</td>\n",
       "      <td>20.0</td>\n",
       "      <td>0</td>\n",
       "      <td>0</td>\n",
       "      <td>never</td>\n",
       "      <td>27.32</td>\n",
       "      <td>6.6</td>\n",
       "      <td>85</td>\n",
       "      <td>0</td>\n",
       "    </tr>\n",
       "    <tr>\n",
       "      <th>6</th>\n",
       "      <td>Female</td>\n",
       "      <td>44.0</td>\n",
       "      <td>0</td>\n",
       "      <td>0</td>\n",
       "      <td>never</td>\n",
       "      <td>19.31</td>\n",
       "      <td>6.5</td>\n",
       "      <td>200</td>\n",
       "      <td>1</td>\n",
       "    </tr>\n",
       "    <tr>\n",
       "      <th>7</th>\n",
       "      <td>Female</td>\n",
       "      <td>79.0</td>\n",
       "      <td>0</td>\n",
       "      <td>0</td>\n",
       "      <td>NaN</td>\n",
       "      <td>23.86</td>\n",
       "      <td>5.7</td>\n",
       "      <td>85</td>\n",
       "      <td>0</td>\n",
       "    </tr>\n",
       "    <tr>\n",
       "      <th>8</th>\n",
       "      <td>Male</td>\n",
       "      <td>42.0</td>\n",
       "      <td>0</td>\n",
       "      <td>0</td>\n",
       "      <td>never</td>\n",
       "      <td>33.64</td>\n",
       "      <td>4.8</td>\n",
       "      <td>145</td>\n",
       "      <td>0</td>\n",
       "    </tr>\n",
       "    <tr>\n",
       "      <th>9</th>\n",
       "      <td>Female</td>\n",
       "      <td>32.0</td>\n",
       "      <td>0</td>\n",
       "      <td>0</td>\n",
       "      <td>never</td>\n",
       "      <td>27.32</td>\n",
       "      <td>5.0</td>\n",
       "      <td>100</td>\n",
       "      <td>0</td>\n",
       "    </tr>\n",
       "    <tr>\n",
       "      <th>10</th>\n",
       "      <td>Female</td>\n",
       "      <td>53.0</td>\n",
       "      <td>0</td>\n",
       "      <td>0</td>\n",
       "      <td>never</td>\n",
       "      <td>27.32</td>\n",
       "      <td>6.1</td>\n",
       "      <td>85</td>\n",
       "      <td>0</td>\n",
       "    </tr>\n",
       "    <tr>\n",
       "      <th>11</th>\n",
       "      <td>Female</td>\n",
       "      <td>54.0</td>\n",
       "      <td>0</td>\n",
       "      <td>0</td>\n",
       "      <td>former</td>\n",
       "      <td>54.70</td>\n",
       "      <td>6.0</td>\n",
       "      <td>100</td>\n",
       "      <td>0</td>\n",
       "    </tr>\n",
       "    <tr>\n",
       "      <th>12</th>\n",
       "      <td>Female</td>\n",
       "      <td>78.0</td>\n",
       "      <td>0</td>\n",
       "      <td>0</td>\n",
       "      <td>former</td>\n",
       "      <td>36.05</td>\n",
       "      <td>5.0</td>\n",
       "      <td>130</td>\n",
       "      <td>0</td>\n",
       "    </tr>\n",
       "    <tr>\n",
       "      <th>13</th>\n",
       "      <td>Female</td>\n",
       "      <td>67.0</td>\n",
       "      <td>0</td>\n",
       "      <td>0</td>\n",
       "      <td>never</td>\n",
       "      <td>25.69</td>\n",
       "      <td>5.8</td>\n",
       "      <td>200</td>\n",
       "      <td>0</td>\n",
       "    </tr>\n",
       "    <tr>\n",
       "      <th>14</th>\n",
       "      <td>Female</td>\n",
       "      <td>76.0</td>\n",
       "      <td>0</td>\n",
       "      <td>0</td>\n",
       "      <td>NaN</td>\n",
       "      <td>27.32</td>\n",
       "      <td>5.0</td>\n",
       "      <td>160</td>\n",
       "      <td>0</td>\n",
       "    </tr>\n",
       "  </tbody>\n",
       "</table>\n",
       "</div>"
      ],
      "text/plain": [
       "    gender   age  hypertension  heart_disease smoking_history    bmi  \\\n",
       "0   Female  80.0             0              1           never  25.19   \n",
       "1   Female  54.0             0              0             NaN  27.32   \n",
       "2     Male  28.0             0              0           never  27.32   \n",
       "3   Female  36.0             0              0         current  23.45   \n",
       "4     Male  76.0             1              1         current  20.14   \n",
       "5   Female  20.0             0              0           never  27.32   \n",
       "6   Female  44.0             0              0           never  19.31   \n",
       "7   Female  79.0             0              0             NaN  23.86   \n",
       "8     Male  42.0             0              0           never  33.64   \n",
       "9   Female  32.0             0              0           never  27.32   \n",
       "10  Female  53.0             0              0           never  27.32   \n",
       "11  Female  54.0             0              0          former  54.70   \n",
       "12  Female  78.0             0              0          former  36.05   \n",
       "13  Female  67.0             0              0           never  25.69   \n",
       "14  Female  76.0             0              0             NaN  27.32   \n",
       "\n",
       "    HbA1c_level  blood_glucose_level  diabetes  \n",
       "0           6.6                  140         0  \n",
       "1           6.6                   80         0  \n",
       "2           5.7                  158         0  \n",
       "3           5.0                  155         0  \n",
       "4           4.8                  155         0  \n",
       "5           6.6                   85         0  \n",
       "6           6.5                  200         1  \n",
       "7           5.7                   85         0  \n",
       "8           4.8                  145         0  \n",
       "9           5.0                  100         0  \n",
       "10          6.1                   85         0  \n",
       "11          6.0                  100         0  \n",
       "12          5.0                  130         0  \n",
       "13          5.8                  200         0  \n",
       "14          5.0                  160         0  "
      ]
     },
     "execution_count": 38,
     "metadata": {},
     "output_type": "execute_result"
    }
   ],
   "source": [
    "# Load the dataset\n",
    "data = pd.read_csv('diabetes_prediction_dataset.csv')\n",
    "\n",
    "# Display the first few rows of the dataset\n",
    "data.head(15)\n"
   ]
  },
  {
   "cell_type": "markdown",
   "id": "d1fe9bbb-b6ae-4f0c-8d6b-49b07ba90ea3",
   "metadata": {},
   "source": [
    "# Age Distribution Visualization "
   ]
  },
  {
   "cell_type": "code",
   "execution_count": 44,
   "id": "4104986b-8ca7-4322-922b-804ae0b30b1e",
   "metadata": {},
   "outputs": [
    {
     "name": "stderr",
     "output_type": "stream",
     "text": [
      "D:\\anaconda\\Lib\\site-packages\\seaborn\\_oldcore.py:1119: FutureWarning: use_inf_as_na option is deprecated and will be removed in a future version. Convert inf values to NaN before operating instead.\n",
      "  with pd.option_context('mode.use_inf_as_na', True):\n"
     ]
    },
    {
     "data": {
      "image/png": "[encoded data removed]",
      "text/plain": [
       "<Figure size 640x480 with 1 Axes>"
      ]
     },
     "metadata": {},
     "output_type": "display_data"
    }
   ],
   "source": [
    "\n",
    "\n",
    "# Age distribution\n",
    "sns.histplot(data['age'], kde=True)\n",
    "plt.title('Age Distribution')\n",
    "plt.show()\n"
   ]
  },
  {
   "cell_type": "markdown",
   "id": "44dbb5c8-7a71-4b18-a71d-96730d10391e",
   "metadata": {},
   "source": [
    "## Check Unique Values in coloumn gender and smoking_history "
   ]
  },
  {
   "cell_type": "code",
   "execution_count": 19,
   "id": "64a29d25-06db-4f38-b5ad-730208250fd3",
   "metadata": {},
   "outputs": [
    {
     "name": "stdout",
     "output_type": "stream",
     "text": [
      "Unique values in gender column: ['Female' 'Male' 'Other']\n",
      "Unique values in smoking_history column: ['never' nan 'current' 'former' 'ever' 'not current']\n"
     ]
    }
   ],
   "source": [
    "\n",
    "# Check unique values in 'gender' column\n",
    "unique_genders = data['gender'].unique()\n",
    "print('Unique values in gender column:', unique_genders)\n",
    "\n",
    "# Check unique values in 'smoking_history' column\n",
    "unique_smoking_histories = data['smoking_history'].unique()\n",
    "print('Unique values in smoking_history column:', unique_smoking_histories)"
   ]
  },
  {
   "cell_type": "markdown",
   "id": "8bb06ca7-35d3-4e56-b7e7-c0e6e94cd73e",
   "metadata": {},
   "source": [
    "## Check for missing values in all columns"
   ]
  },
  {
   "cell_type": "code",
   "execution_count": 21,
   "id": "4f10f5eb-6898-4bff-a5f6-3a2509b277fc",
   "metadata": {},
   "outputs": [
    {
     "name": "stdout",
     "output_type": "stream",
     "text": [
      "Missing values in each column:\n",
      "gender                     0\n",
      "age                        0\n",
      "hypertension               0\n",
      "heart_disease              0\n",
      "smoking_history        35816\n",
      "bmi                        0\n",
      "HbA1c_level                0\n",
      "blood_glucose_level        0\n",
      "diabetes                   0\n",
      "dtype: int64\n"
     ]
    }
   ],
   "source": [
    "# Check for missing values in all columns\n",
    "missing_values = data.isnull().sum()\n",
    "print('Missing values in each column:')\n",
    "print(missing_values)"
   ]
  },
  {
   "cell_type": "markdown",
   "id": "47edb0b4-08e8-4b4f-9af0-2cd57e0198df",
   "metadata": {},
   "source": [
    "## Data Encoding and Data Cleaning"
   ]
  },
  {
   "cell_type": "code",
   "execution_count": 23,
   "id": "ebced43e-05f3-4480-856f-bd1c6ddf9432",
   "metadata": {},
   "outputs": [],
   "source": [
    "# Encode the 'gender' column\n",
    "data['gender'] = data['gender'].map({'Female': 0, 'Male': 1, 'Other': 2})\n",
    "\n",
    "# Combine similar categories in 'smoking_history' column and handle NaN values\n",
    "data['smoking_history'] = data['smoking_history'].map({\n",
    "    'never': 0,\n",
    "    'current': 1,\n",
    "    'former': 2,\n",
    "    'ever': 2,\n",
    "    'not current': 2\n",
    "})\n",
    "data['smoking_history'] = data['smoking_history'].fillna(-1)  # Handle missing values\n"
   ]
  },
  {
   "cell_type": "markdown",
   "id": "c9ce465e-03cc-4eb7-ba1e-d7da58c1bac9",
   "metadata": {},
   "source": [
    "# Again check the missing values and the uniques values in coloumn gender and smoking history for checking "
   ]
  },
  {
   "cell_type": "code",
   "execution_count": 25,
   "id": "eb256f97-687c-4b58-83e4-cdaf4dd376a9",
   "metadata": {},
   "outputs": [
    {
     "name": "stdout",
     "output_type": "stream",
     "text": [
      "Missing values in each column:\n",
      "gender                 0\n",
      "age                    0\n",
      "hypertension           0\n",
      "heart_disease          0\n",
      "smoking_history        0\n",
      "bmi                    0\n",
      "HbA1c_level            0\n",
      "blood_glucose_level    0\n",
      "diabetes               0\n",
      "dtype: int64\n",
      "Unique values in gender column: [0 1 2]\n",
      "Unique values in smoking_history column: [ 0. -1.  1.  2.]\n"
     ]
    }
   ],
   "source": [
    "# Check for missing values in all columns\n",
    "missing_values = data.isnull().sum()\n",
    "print('Missing values in each column:')\n",
    "print(missing_values)\n",
    "\n",
    "\n",
    "# Check unique values in 'gender' column\n",
    "unique_genders = data['gender'].unique()\n",
    "print('Unique values in gender column:', unique_genders)\n",
    "\n",
    "# Check unique values in 'smoking_history' column\n",
    "unique_smoking_histories = data['smoking_history'].unique()\n",
    "print('Unique values in smoking_history column:', unique_smoking_histories)"
   ]
  },
  {
   "cell_type": "markdown",
   "id": "761e69ea-d932-4e06-bb3a-8484a4787c70",
   "metadata": {},
   "source": [
    "## Data Preprocessing"
   ]
  },
  {
   "cell_type": "code",
   "execution_count": 27,
   "id": "690cbb4b-6715-40f3-b10c-1c3c3922b780",
   "metadata": {},
   "outputs": [],
   "source": [
    "# Separate the features and the target variable\n",
    "X = data.drop('diabetes', axis=1)\n",
    "y = data['diabetes']\n",
    "\n",
    "# Split the data into training and testing sets\n",
    "X_train, X_test, y_train, y_test = train_test_split(X, y, test_size=0.2, random_state=42)\n",
    "\n",
    "# Standardize the feature values\n",
    "scaler = StandardScaler()\n",
    "X_train = scaler.fit_transform(X_train)\n",
    "X_test = scaler.transform(X_test)\n"
   ]
  },
  {
   "cell_type": "markdown",
   "id": "e45dec03-96e0-4f4e-90e0-76afa1b33fbe",
   "metadata": {},
   "source": [
    "## Model Building and Training "
   ]
  },
  {
   "cell_type": "code",
   "execution_count": 29,
   "id": "346a1462-ff01-46aa-a3f7-7db9e9b3c1d9",
   "metadata": {},
   "outputs": [
    {
     "data": {
      "text/plain": [
       "['scaler.pkl']"
      ]
     },
     "execution_count": 29,
     "metadata": {},
     "output_type": "execute_result"
    }
   ],
   "source": [
    "# Create and train Logistic Regression model\n",
    "lr_model = LogisticRegression()\n",
    "lr_model.fit(X_train, y_train)\n",
    "\n",
    "# Create and train Random Forest model\n",
    "rf_model = RandomForestClassifier()\n",
    "rf_model.fit(X_train, y_train)\n",
    "\n",
    "# Create and train SVM model\n",
    "svm_model = SVC()\n",
    "svm_model.fit(X_train, y_train)\n",
    "\n",
    "\n",
    "\n",
    "# Save the trained model and scaler\n",
    "joblib.dump(rf_model, 'rf_model.pkl')\n",
    "joblib.dump(scaler, 'scaler.pkl')\n"
   ]
  },
  {
   "cell_type": "code",
   "execution_count": null,
   "id": "a7c216ec-4abd-4489-a635-bbbed3a9ed4d",
   "metadata": {},
   "outputs": [],
   "source": []
  },
  {
   "cell_type": "markdown",
   "id": "57bf7c56-dfca-4376-94ca-073f5be09e1b",
   "metadata": {},
   "source": [
    "## Model Evaluation"
   ]
  },
  {
   "cell_type": "code",
   "execution_count": 80,
   "id": "de6c4b3f-e62e-4fd8-83ef-fa8d0f3361a5",
   "metadata": {},
   "outputs": [
    {
     "name": "stdout",
     "output_type": "stream",
     "text": [
      "Logistic Regression Accuracy: 0.96\n",
      "Logistic Regression Confusion Matrix:\n",
      "[[18134   158]\n",
      " [  666  1042]]\n",
      "Logistic Regression Classification Report:\n",
      "              precision    recall  f1-score   support\n",
      "\n",
      "           0       0.96      0.99      0.98     18292\n",
      "           1       0.87      0.61      0.72      1708\n",
      "\n",
      "    accuracy                           0.96     20000\n",
      "   macro avg       0.92      0.80      0.85     20000\n",
      "weighted avg       0.96      0.96      0.96     20000\n",
      "\n",
      "Random Forest Accuracy: 0.97\n",
      "Random Forest Confusion Matrix:\n",
      "[[18215    77]\n",
      " [  532  1176]]\n",
      "Random Forest Classification Report:\n",
      "              precision    recall  f1-score   support\n",
      "\n",
      "           0       0.97      1.00      0.98     18292\n",
      "           1       0.94      0.69      0.79      1708\n",
      "\n",
      "    accuracy                           0.97     20000\n",
      "   macro avg       0.96      0.84      0.89     20000\n",
      "weighted avg       0.97      0.97      0.97     20000\n",
      "\n",
      "SVM Accuracy: 0.96\n",
      "SVM Confusion Matrix:\n",
      "[[18270    22]\n",
      " [  733   975]]\n",
      "SVM Classification Report:\n",
      "              precision    recall  f1-score   support\n",
      "\n",
      "           0       0.96      1.00      0.98     18292\n",
      "           1       0.98      0.57      0.72      1708\n",
      "\n",
      "    accuracy                           0.96     20000\n",
      "   macro avg       0.97      0.78      0.85     20000\n",
      "weighted avg       0.96      0.96      0.96     20000\n",
      "\n"
     ]
    }
   ],
   "source": [
    "# Evaluate Logistic Regression model\n",
    "lr_pred = lr_model.predict(X_test)\n",
    "lr_accuracy = accuracy_score(y_test, lr_pred)\n",
    "print(f'Logistic Regression Accuracy: {lr_accuracy:.2f}')\n",
    "print('Logistic Regression Confusion Matrix:')\n",
    "print(confusion_matrix(y_test, lr_pred))\n",
    "print('Logistic Regression Classification Report:')\n",
    "print(classification_report(y_test, lr_pred))\n",
    "\n",
    "# Evaluate Random Forest model\n",
    "rf_pred = rf_model.predict(X_test)\n",
    "rf_accuracy = accuracy_score(y_test, rf_pred)\n",
    "print(f'Random Forest Accuracy: {rf_accuracy:.2f}')\n",
    "print('Random Forest Confusion Matrix:')\n",
    "print(confusion_matrix(y_test, rf_pred))\n",
    "print('Random Forest Classification Report:')\n",
    "print(classification_report(y_test, rf_pred))\n",
    "\n",
    "# Evaluate SVM model\n",
    "svm_pred = svm_model.predict(X_test)\n",
    "svm_accuracy = accuracy_score(y_test, svm_pred)\n",
    "print(f'SVM Accuracy: {svm_accuracy:.2f}')\n",
    "print('SVM Confusion Matrix:')\n",
    "print(confusion_matrix(y_test, svm_pred))\n",
    "print('SVM Classification Report:')\n",
    "print(classification_report(y_test, svm_pred))\n"
   ]
  },
  {
   "cell_type": "markdown",
   "id": "f50ffe00-ab86-410f-bc62-e7b0143b70d6",
   "metadata": {},
   "source": [
    "## Bar Chart for Model Accuracies \n"
   ]
  },
  {
   "cell_type": "code",
   "execution_count": 82,
   "id": "5151cfbb-d515-48a5-abb3-36503b764396",
   "metadata": {},
   "outputs": [
    {
     "data": {
      "image/png": "[encoded data removed]",
      "text/plain": [
       "<Figure size 1000x600 with 1 Axes>"
      ]
     },
     "metadata": {},
     "output_type": "display_data"
    }
   ],
   "source": [
    "\n",
    "# Convert accuracies to percentages\n",
    "lr_accuracy *= 100\n",
    "svm_accuracy *= 100\n",
    "rf_accuracy *= 100\n",
    "\n",
    "# Labels for the x-axis\n",
    "models = ['Logistic Regression', 'SVM', 'Random Forest']\n",
    "\n",
    "# Accuracy values\n",
    "accuracies = [lr_accuracy, svm_accuracy, rf_accuracy]\n",
    "\n",
    "# Create the bar chart\n",
    "plt.figure(figsize=(10, 6))\n",
    "bars = plt.bar(models, accuracies, color=['blue', 'green', 'red'])\n",
    "\n",
    "# Add titles and labels\n",
    "plt.title('Model Accuracy Comparison')\n",
    "plt.xlabel('Model')\n",
    "plt.ylabel('Accuracy (%)')\n",
    "\n",
    "# Add accuracy values on top of the bars\n",
    "for bar, accuracy in zip(bars, accuracies):\n",
    "    plt.text(bar.get_x() + bar.get_width() / 2.0, bar.get_height(), f'{accuracy:.2f}%', ha='center', va='bottom')\n",
    "\n",
    "# Save the plot as PNG file\n",
    "plt.savefig('accuracy_comparison.png')\n",
    "\n",
    "# Show the plot\n",
    "plt.show()"
   ]
  },
  {
   "cell_type": "markdown",
   "id": "6f6ed89f-5bb7-45eb-92f0-01fde961a88f",
   "metadata": {},
   "source": [
    "## GUI for User Input and Prediction"
   ]
  },
  {
   "cell_type": "code",
   "execution_count": 84,
   "id": "b999fec0-b349-4538-9f3d-3fa6f9029f20",
   "metadata": {},
   "outputs": [
    {
     "name": "stderr",
     "output_type": "stream",
     "text": [
      "D:\\anaconda\\Lib\\site-packages\\sklearn\\base.py:439: UserWarning: X does not have valid feature names, but StandardScaler was fitted with feature names\n",
      "  warnings.warn(\n"
     ]
    }
   ],
   "source": [
    "def predict_diabetes():\n",
    "    gender = int(gender_var.get())\n",
    "    age = int(age_entry.get())\n",
    "    hypertension = int(hypertension_var.get())\n",
    "    heart_disease = int(heart_disease_var.get())\n",
    "    smoking_history = int(smoking_history_var.get())\n",
    "    bmi = float(bmi_entry.get())\n",
    "    hba1c_level = float(hba1c_entry.get())\n",
    "    blood_glucose_level = float(glucose_entry.get())\n",
    "    \n",
    "    # Prepare input data for prediction\n",
    "    input_data = scaler.transform([[gender, age, hypertension, heart_disease, smoking_history, bmi, hba1c_level, blood_glucose_level]])\n",
    "    \n",
    "    # Predict using the loaded Random Forest model\n",
    "    prediction = rf_model.predict(input_data)\n",
    "    \n",
    "    # Display the prediction result\n",
    "    if prediction[0] == 0:\n",
    "        messagebox.showinfo(\"Prediction Result\", \"The model predicts that the person does NOT have diabetes.\")\n",
    "    else:\n",
    "        messagebox.showinfo(\"Prediction Result\", \"The model predicts that the person HAS diabetes.\")\n",
    "\n",
    "# Load the trained model and scaler\n",
    "rf_model = joblib.load('rf_model.pkl')\n",
    "scaler = joblib.load('scaler.pkl')\n",
    "\n",
    "# Create the GUI window\n",
    "window = tk.Tk()\n",
    "window.title(\"Diabetes Prediction\")\n",
    "\n",
    "# Configure the grid to center the widgets\n",
    "window.grid_columnconfigure(0, weight=1)\n",
    "window.grid_columnconfigure(1, weight=1)\n",
    "window.grid_columnconfigure(2, weight=1)\n",
    "\n",
    "# Create input fields with no prefilled values\n",
    "tk.Label(window, text=\"Gender (0: Female, 1: Male, 2: Other):\").grid(row=0, column=1, pady=5)\n",
    "gender_var = tk.StringVar()\n",
    "tk.Entry(window, textvariable=gender_var).grid(row=0, column=2, pady=5)\n",
    "\n",
    "tk.Label(window, text=\"Age:\").grid(row=1, column=1, pady=5)\n",
    "age_entry = tk.Entry(window)\n",
    "age_entry.grid(row=1, column=2, pady=5)\n",
    "\n",
    "tk.Label(window, text=\"Hypertension (0: No, 1: Yes):\").grid(row=2, column=1, pady=5)\n",
    "hypertension_var = tk.StringVar()\n",
    "tk.Entry(window, textvariable=hypertension_var).grid(row=2, column=2, pady=5)\n",
    "\n",
    "tk.Label(window, text=\"Heart Disease (0: No, 1: Yes):\").grid(row=3, column=1, pady=5)\n",
    "heart_disease_var = tk.StringVar()\n",
    "tk.Entry(window, textvariable=heart_disease_var).grid(row=3, column=2, pady=5)\n",
    "\n",
    "tk.Label(window, text=\"Smoking History (0: Never, 1: Current, 2: Former/Ever/Not current):\").grid(row=4, column=1, pady=5)\n",
    "smoking_history_var = tk.StringVar()\n",
    "tk.Entry(window, textvariable=smoking_history_var).grid(row=4, column=2, pady=5)\n",
    "\n",
    "tk.Label(window, text=\"BMI:\").grid(row=5, column=1, pady=5)\n",
    "bmi_entry = tk.Entry(window)\n",
    "bmi_entry.grid(row=5, column=2, pady=5)\n",
    "\n",
    "tk.Label(window, text=\"HbA1c Level:\").grid(row=6, column=1, pady=5)\n",
    "hba1c_entry = tk.Entry(window)\n",
    "hba1c_entry.grid(row=6, column=2, pady=5)\n",
    "\n",
    "tk.Label(window, text=\"Blood Glucose Level:\").grid(row=7, column=1, pady=5)\n",
    "glucose_entry = tk.Entry(window)\n",
    "glucose_entry.grid(row=7, column=2, pady=5)\n",
    "\n",
    "# Create Predict button\n",
    "tk.Button(window, text=\"Predict\", command=predict_diabetes).grid(row=8, column=1, columnspan=2, pady=10)\n",
    "\n",
    "# Run the GUI loop\n",
    "window.mainloop()"
   ]
  },
  {
   "cell_type": "code",
   "execution_count": null,
   "id": "a4eb3271-7cac-4610-90a3-69ffd2125e86",
   "metadata": {},
   "outputs": [],
   "source": []
  }
 ],
 "metadata": {
  "kernelspec": {
   "display_name": "Python 3 (ipykernel)",
   "language": "python",
   "name": "python3"
  },
  "language_info": {
   "codemirror_mode": {
    "name": "ipython",
    "version": 3
   },
   "file_extension": ".py",
   "mimetype": "text/x-python",
   "name": "python",
   "nbconvert_exporter": "python",
   "pygments_lexer": "ipython3",
   "version": "3.11.7"
  }
 },
 "nbformat": 4,
 "nbformat_minor": 5
}
